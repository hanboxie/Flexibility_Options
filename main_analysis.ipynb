{
 "cells": [
  {
   "cell_type": "code",
   "execution_count": 1,
   "metadata": {},
   "outputs": [],
   "source": [
    "import pyomo.environ as pyo\n",
    "import pandas as pd\n",
    "import numpy as np"
   ]
  },
  {
   "cell_type": "markdown",
   "metadata": {},
   "source": [
    "### Models and Configs"
   ]
  },
  {
   "cell_type": "code",
   "execution_count": 2,
   "metadata": {},
   "outputs": [],
   "source": [
    "import yaml\n",
    "\n",
    "# Load YAML config\n",
    "with open(\"config/model_config.yaml\", \"r\") as f:\n",
    "    config = yaml.safe_load(f)\n",
    "\n",
    "# Unpack paths\n",
    "paths = config[\"data_paths\"]\n",
    "gen_csv_path = paths[\"generator_csv\"]\n",
    "storage_csv_path = paths[\"storage_csv\"]\n",
    "demand_csv_path = paths[\"demand_csv\"]\n",
    "renewable_csv_path = paths[\"renewable_csv\"]\n",
    "\n",
    "# Unpack solver config\n",
    "solver_cfg = config[\"solver\"]\n",
    "solver_name = solver_cfg[\"name\"]\n",
    "solver_exec = solver_cfg.get(\"executable\")\n",
    "solver_options = solver_cfg.get(\"options\", {})"
   ]
  },
  {
   "cell_type": "code",
   "execution_count": 3,
   "metadata": {},
   "outputs": [],
   "source": [
    "import sys\n",
    "sys.path.append('./src')\n",
    "\n",
    "from models.DAFOModel import DAFOModel\n",
    "from models.RTSimModel import RTSimModel\n",
    "from data_utils.DataProcessor import DataProcessor\n",
    "from data_utils.extract_da import extract_da\n",
    "from data_utils.results_processing import (\n",
    "    calculate_rt_margins,\n",
    "    calculate_rt_payoffs,\n",
    "    calculate_system_metrics,\n",
    "    calculate_premium_convergence,\n",
    "    calculate_total_margins\n",
    ")\n",
    "from data_utils.scenario_generation import scenario_generation"
   ]
  },
  {
   "cell_type": "markdown",
   "metadata": {},
   "source": [
    "### Process Data and Solve for DA"
   ]
  },
  {
   "cell_type": "code",
   "execution_count": 4,
   "metadata": {},
   "outputs": [
    {
     "name": "stdout",
     "output_type": "stream",
     "text": [
      "Aggregated data written to data/processed/renewable.csv\n"
     ]
    }
   ],
   "source": [
    "import os\n",
    "os.makedirs(\"data/processed\", exist_ok=True)\n",
    "\n",
    "# Improved from 5.4 seconds to 0.3 seconds (for 5 scenarios)\n",
    "scenario_generation(\n",
    "    input_dir=\"data/raw/renewable\",\n",
    "    output_file=\"data/processed/renewable.csv\",\n",
    "    config=config\n",
    ")   "
   ]
  },
  {
   "cell_type": "code",
   "execution_count": 5,
   "metadata": {},
   "outputs": [
    {
     "name": "stdout",
     "output_type": "stream",
     "text": [
      "Generator data loaded: 157 of 157 generators loaded.\n",
      "Storage data loaded: 0 of 22 storages loaded.\n",
      "Demand data loaded: 24 of 8784 periods loaded.\n",
      "Renewable data loaded: 24 of 24 periods loaded.\n",
      "Warning: Missing parameters: ['E_MAX', 'P_MAX', 'ETA_CH', 'ETA_DCH', 'E0', 'E_FINAL', 'STORAGE_COST']\n"
     ]
    }
   ],
   "source": [
    "system_data = DataProcessor(gen_csv_path, storage_csv_path, demand_csv_path, renewable_csv_path)\n",
    "pyomo_system_data = system_data.prepare_pyomo_data(config)\n",
    "\n",
    "dafo_model = DAFOModel(config)\n",
    "da_instance = dafo_model.create_instance(pyomo_system_data)\n",
    "\n",
    "opt = pyo.SolverFactory(solver_name, executable=solver_exec)\n",
    "result = opt.solve(da_instance, tee=solver_options.get(\"tee\", False))"
   ]
  },
  {
   "cell_type": "code",
   "execution_count": null,
   "metadata": {},
   "outputs": [],
   "source": [
    "dataRT, total_da, df, demand, Energy, Prices, Gross_margins = extract_da(da_instance, pyomo_system_data)\n",
    "\n",
    "RTsim = RTSimModel(config)\n",
    "\n",
    "iRT = RTsim.create_instance(dataRT)\n",
    "opt.solve(iRT)\n",
    "\n",
    "# Calculate results using functions from results_processing\n",
    "RTmargins = calculate_rt_margins(iRT, dataRT)\n",
    "RTpayoffs = calculate_rt_payoffs(iRT, dataRT, df)\n",
    "# Pass the extracted DA totals (total_da) here\n",
    "Total = calculate_system_metrics(iRT, dataRT, total_da)\n",
    "premium_convergence = calculate_premium_convergence(Gross_margins, RTpayoffs)\n",
    "Total_margin = calculate_total_margins(iRT, dataRT, Gross_margins, RTmargins, RTpayoffs, premium_convergence, total_da)\n",
    "\n",
    "with pd.ExcelWriter('results/results.xlsx') as writer:\n",
    "    # Write each DataFrame to a different sheet\n",
    "    RTmargins.to_excel(writer, sheet_name='RT Margins')\n",
    "    RTpayoffs.to_excel(writer, sheet_name='RT Payoffs')\n",
    "    Total.to_excel(writer, sheet_name='System Metrics')\n",
    "    premium_convergence.to_excel(writer, sheet_name='Premium Convergence')\n",
    "    Total_margin.to_excel(writer, sheet_name='Total Margins')\n",
    "    df.to_excel(writer, sheet_name='FO Supply AWARDS')\n",
    "    demand.to_excel(writer, sheet_name='FO Demand AWARDS')\n",
    "    Energy.to_excel(writer, sheet_name='DA Energy')\n",
    "    Prices.to_excel(writer, sheet_name='DA Prices')\n",
    "\n",
    "print(\"Results have been written to 'results.xlsx'\")"
   ]
  },
  {
   "cell_type": "code",
   "execution_count": null,
   "metadata": {},
   "outputs": [],
   "source": [
    "print(\"\\nRT Margins:\")\n",
    "print(round(RTmargins, 2))\n",
    "\n",
    "print(\"\\nRT Payoffs:\")\n",
    "print(round(RTpayoffs, 2))\n",
    "\n",
    "print(\"\\nSystem Metrics:\")\n",
    "print(round(Total, 2))\n",
    "\n",
    "print(\"\\nPremium Convergence:\")\n",
    "print(round(premium_convergence, 2))\n",
    "\n",
    "print(\"\\nTotal Margins:\")\n",
    "print(round(Total_margin, 2))\n",
    "\n",
    "print(\"\\nFO Supply AWARDS:\")\n",
    "print(round(df, 2))\n",
    "\n",
    "print(\"\\nFO Demand AWARDS:\")\n",
    "print(round(demand, 2))\n",
    "\n",
    "print(\"\\nDA Energy:\")\n",
    "print(round(Energy, 2))\n",
    "\n",
    "print(\"\\nDA Prices (FO):\")\n",
    "print(round(Prices, 2))"
   ]
  },
  {
   "cell_type": "markdown",
   "metadata": {},
   "source": [
    "# Visualisation"
   ]
  },
  {
   "cell_type": "code",
   "execution_count": null,
   "metadata": {},
   "outputs": [],
   "source": [
    "from data_utils.util_plotting import plot_demand_and_renewables\n",
    "plot_demand_and_renewables(pyomo_system_data)"
   ]
  },
  {
   "cell_type": "code",
   "execution_count": null,
   "metadata": {},
   "outputs": [],
   "source": []
  }
 ],
 "metadata": {
  "kernelspec": {
   "display_name": ".venv",
   "language": "python",
   "name": "python3"
  },
  "language_info": {
   "codemirror_mode": {
    "name": "ipython",
    "version": 3
   },
   "file_extension": ".py",
   "mimetype": "text/x-python",
   "name": "python",
   "nbconvert_exporter": "python",
   "pygments_lexer": "ipython3",
   "version": "3.13.0"
  }
 },
 "nbformat": 4,
 "nbformat_minor": 2
}
