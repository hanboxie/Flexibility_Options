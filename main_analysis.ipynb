{
 "cells": [
  {
   "cell_type": "code",
   "execution_count": 1,
   "metadata": {},
   "outputs": [],
   "source": [
    "import pyomo.environ as pyo\n",
    "import pandas as pd\n",
    "import numpy as np"
   ]
  },
  {
   "cell_type": "markdown",
   "metadata": {},
   "source": [
    "### Models and Configs"
   ]
  },
  {
   "cell_type": "code",
   "execution_count": 2,
   "metadata": {},
   "outputs": [],
   "source": [
    "import yaml\n",
    "\n",
    "# Load YAML config\n",
    "with open(\"config/model_config.yaml\", \"r\") as f:\n",
    "    config = yaml.safe_load(f)\n",
    "\n",
    "# Unpack paths\n",
    "paths = config[\"data_paths\"]\n",
    "gen_csv_path = paths[\"generator_csv\"]\n",
    "storage_csv_path = paths[\"storage_csv\"]\n",
    "demand_csv_path = paths[\"demand_csv\"]\n",
    "renewable_csv_path = paths[\"renewable_csv\"]\n",
    "\n",
    "# Unpack solver config\n",
    "solver_cfg = config[\"solver\"]\n",
    "solver_name = solver_cfg[\"name\"]\n",
    "solver_exec = solver_cfg.get(\"executable\")\n",
    "solver_options = solver_cfg.get(\"options\", {})"
   ]
  },
  {
   "cell_type": "code",
   "execution_count": 3,
   "metadata": {},
   "outputs": [],
   "source": [
    "import sys\n",
    "sys.path.append('./src')\n",
    "\n",
    "from models.DAFOModel import DAFOModel\n",
    "from models.RTSimModel import RTSimModel\n",
    "from data_utils.DataProcessor import DataProcessor\n",
    "from data_utils.extract_da import extract_da\n",
    "from data_utils.results_processing import (\n",
    "    calculate_rt_margins,\n",
    "    calculate_rt_payoffs,\n",
    "    calculate_system_metrics,\n",
    "    calculate_premium_convergence,\n",
    "    calculate_total_margins\n",
    ")\n",
    "from data_utils.scenario_generation import scenario_generation"
   ]
  },
  {
   "cell_type": "markdown",
   "metadata": {},
   "source": [
    "### Process Data and Solve for DA"
   ]
  },
  {
   "cell_type": "code",
   "execution_count": 4,
   "metadata": {},
   "outputs": [
    {
     "name": "stdout",
     "output_type": "stream",
     "text": [
      "Aggregated data written to data/processed/renewable.csv\n"
     ]
    }
   ],
   "source": [
    "import os\n",
    "os.makedirs(\"data/processed\", exist_ok=True)\n",
    "\n",
    "# Improved from 5.4 seconds to 0.3 seconds (for 5 scenarios)\n",
    "scenario_generation(\n",
    "    input_dir=\"data/raw/renewable\",\n",
    "    output_file=\"data/processed/renewable.csv\",\n",
    "    num_scenarios=5\n",
    ")   "
   ]
  },
  {
   "cell_type": "code",
   "execution_count": 5,
   "metadata": {},
   "outputs": [
    {
     "name": "stdout",
     "output_type": "stream",
     "text": [
      "Generator data loaded: 5 of 157 generators loaded.\n",
      "Storage data loaded: 0 of 22 storages loaded.\n",
      "Demand data loaded: 2 of 8784 periods loaded.\n",
      "Renewable data loaded: 2 of 24 periods loaded.\n",
      "Warning: Missing parameters: ['E_MAX', 'P_MAX', 'ETA_CH', 'ETA_DCH', 'E0', 'E_FINAL', 'STORAGE_COST']\n"
     ]
    }
   ],
   "source": [
    "system_data = DataProcessor(gen_csv_path, storage_csv_path, demand_csv_path, renewable_csv_path)\n",
    "pyomo_system_data = system_data.prepare_pyomo_data(config)\n",
    "\n",
    "dafo_model = DAFOModel(config)\n",
    "da_instance = dafo_model.create_instance(pyomo_system_data)\n",
    "\n",
    "opt = pyo.SolverFactory(solver_name, executable=solver_exec)\n",
    "result = opt.solve(da_instance, tee=solver_options.get(\"tee\", False))"
   ]
  },
  {
   "cell_type": "code",
   "execution_count": 9,
   "metadata": {},
   "outputs": [
    {
     "name": "stdout",
     "output_type": "stream",
     "text": [
      "Results have been written to 'results.xlsx'\n"
     ]
    }
   ],
   "source": [
    "dataRT, total_da, df, demand, Energy, Prices, Gross_margins = extract_da(da_instance, pyomo_system_data)\n",
    "\n",
    "RTsim = RTSimModel(config)\n",
    "\n",
    "iRT = RTsim.create_instance(dataRT)\n",
    "opt.solve(iRT)\n",
    "\n",
    "# Calculate results using functions from results_processing\n",
    "RTmargins = calculate_rt_margins(iRT, dataRT)\n",
    "RTpayoffs = calculate_rt_payoffs(iRT, dataRT, df)\n",
    "# Pass the extracted DA totals (total_da) here\n",
    "Total = calculate_system_metrics(iRT, dataRT, total_da)\n",
    "premium_convergence = calculate_premium_convergence(Gross_margins, RTpayoffs)\n",
    "Total_margin = calculate_total_margins(iRT, dataRT, Gross_margins, RTmargins, RTpayoffs, premium_convergence, total_da)\n",
    "\n",
    "with pd.ExcelWriter('results/results.xlsx') as writer:\n",
    "    # Write each DataFrame to a different sheet\n",
    "    RTmargins.to_excel(writer, sheet_name='RT Margins')\n",
    "    RTpayoffs.to_excel(writer, sheet_name='RT Payoffs')\n",
    "    Total.to_excel(writer, sheet_name='System Metrics')\n",
    "    premium_convergence.to_excel(writer, sheet_name='Premium Convergence')\n",
    "    Total_margin.to_excel(writer, sheet_name='Total Margins')\n",
    "    df.to_excel(writer, sheet_name='FO Supply AWARDS')\n",
    "    demand.to_excel(writer, sheet_name='FO Demand AWARDS')\n",
    "    Energy.to_excel(writer, sheet_name='DA Energy')\n",
    "    Prices.to_excel(writer, sheet_name='DA Prices')\n",
    "\n",
    "print(\"Results have been written to 'results.xlsx'\")"
   ]
  },
  {
   "cell_type": "code",
   "execution_count": 7,
   "metadata": {},
   "outputs": [
    {
     "name": "stdout",
     "output_type": "stream",
     "text": [
      "\n",
      "RT Margins:\n",
      "                    1      2    3    4    5\n",
      "Generator Time                             \n",
      "1         1     30.08  15.04  0.0 -0.0 -0.0\n",
      "          2     30.08  15.04  0.0 -0.0 -0.0\n",
      "2         1     30.00   0.00  0.0  0.0  0.0\n",
      "          2     30.00   0.00  0.0  0.0  0.0\n",
      "3         1      0.00   0.00  0.0  0.0  0.0\n",
      "          2      0.00   0.00  0.0  0.0  0.0\n",
      "4         1      0.00   0.00  0.0  0.0  0.0\n",
      "          2      0.00   0.00  0.0  0.0  0.0\n",
      "5         1      0.00   0.00  0.0  0.0  0.0\n",
      "          2      0.00   0.00  0.0  0.0  0.0\n",
      "\n",
      "RT Payoffs:\n",
      "             UP1    UP2  UP3  UP4  DN2  DN3  DN4  DN5\n",
      "Generator                                            \n",
      "1         -60.16 -30.08 -0.0 -0.0  0.0  0.0  0.0  0.0\n",
      "2         -60.00  -0.00  0.0  0.0  0.0 -0.0 -0.0 -0.0\n",
      "3          -0.00   0.00  0.0  0.0 -0.0 -0.0 -0.0 -0.0\n",
      "4           0.00   0.00  0.0  0.0 -0.0 -0.0 -0.0 -0.0\n",
      "5           0.00   0.00  0.0  0.0 -0.0 -0.0 -0.0 -0.0\n",
      "\n",
      "System Metrics:\n",
      "                   DA       1       2    3     4      5\n",
      "price           29.00   10.00    7.00  4.0   4.0    4.0\n",
      "cost          1799.46  359.29  165.73 -0.0 -80.0 -136.0\n",
      "unmet_demand      NaN    0.22    0.07 -0.0  -0.0   -0.0\n",
      "curtail cost      NaN    0.00    0.00  0.0   0.0    0.0\n",
      "\n",
      "Premium Convergence:\n",
      "            UP   DN\n",
      "Generator          \n",
      "1          0.0  0.0\n",
      "2          0.0 -0.0\n",
      "3          0.0 -0.0\n",
      "4         -0.0 -0.0\n",
      "5         -0.0 -0.0\n",
      "\n",
      "Total Margins:\n",
      "                 1        2        3        4        5\n",
      "Generator                                             \n",
      "1           180.00   180.00   180.00   180.00   180.00\n",
      "2            12.00    12.00    12.00    12.00    12.00\n",
      "3            -0.00    -0.00    -0.00    -0.00    -0.00\n",
      "4            -0.00    -0.00    -0.00    -0.00    -0.00\n",
      "5            -0.00    -0.00    -0.00    -0.00    -0.00\n",
      "RE         1318.00  1602.00  1798.00  1878.00  1934.00\n",
      "DR            0.25     0.13     0.09     0.09     0.09\n",
      "\n",
      "FO Supply AWARDS:\n",
      "            hsu   hsd  R  G  T\n",
      "(1, 1, 1)  0.00   0.0  1  1  1\n",
      "(1, 1, 2)  0.00   0.0  1  1  2\n",
      "(1, 2, 1)  1.03   0.0  1  2  1\n",
      "(1, 2, 2)  1.03   0.0  1  2  2\n",
      "(1, 3, 1)  8.96   0.0  1  3  1\n",
      "(1, 3, 2)  8.96   0.0  1  3  2\n",
      "(1, 4, 1)  0.00   0.0  1  4  1\n",
      "(1, 4, 2)  0.00   0.0  1  4  2\n",
      "(1, 5, 1)  0.00   0.0  1  5  1\n",
      "(1, 5, 2)  0.00   0.0  1  5  2\n",
      "(2, 1, 1)  5.01   0.0  2  1  1\n",
      "(2, 1, 2)  5.01   0.0  2  1  2\n",
      "(2, 2, 1)  8.97   0.0  2  2  1\n",
      "(2, 2, 2)  8.97   0.0  2  2  2\n",
      "(2, 3, 1)  0.00   0.0  2  3  1\n",
      "(2, 3, 2)  0.00   0.0  2  3  2\n",
      "(2, 4, 1)  0.00   0.0  2  4  1\n",
      "(2, 4, 2)  0.00   0.0  2  4  2\n",
      "(2, 5, 1)  0.00   0.0  2  5  1\n",
      "(2, 5, 2)  0.00   0.0  2  5  2\n",
      "(3, 1, 1)  0.00  10.0  3  1  1\n",
      "(3, 1, 2)  0.00  10.0  3  1  2\n",
      "(3, 2, 1)  0.00   0.0  3  2  1\n",
      "(3, 2, 2)  0.00   0.0  3  2  2\n",
      "(3, 3, 1)  0.00   0.0  3  3  1\n",
      "(3, 3, 2)  0.00   0.0  3  3  2\n",
      "(3, 4, 1)  0.00   0.0  3  4  1\n",
      "(3, 4, 2)  0.00   0.0  3  4  2\n",
      "(3, 5, 1)  0.00   0.0  3  5  1\n",
      "(3, 5, 2)  0.00   0.0  3  5  2\n",
      "(4, 1, 1)  0.00   7.0  4  1  1\n",
      "(4, 1, 2)  0.00   7.0  4  1  2\n",
      "(4, 2, 1)  0.00   0.0  4  2  1\n",
      "(4, 2, 2)  0.00   0.0  4  2  2\n",
      "(4, 3, 1)  0.00   0.0  4  3  1\n",
      "(4, 3, 2)  0.00   0.0  4  3  2\n",
      "(4, 4, 1)  0.00   0.0  4  4  1\n",
      "(4, 4, 2)  0.00   0.0  4  4  2\n",
      "(4, 5, 1)  0.00   0.0  4  5  1\n",
      "(4, 5, 2)  0.00   0.0  4  5  2\n",
      "\n",
      "FO Demand AWARDS:\n",
      "          hdu   hdd\n",
      "(1, 1)   9.99   0.0\n",
      "(1, 2)   9.99   0.0\n",
      "(2, 1)  13.99   0.0\n",
      "(2, 2)  13.99   0.0\n",
      "(3, 1)   0.00  10.0\n",
      "(3, 2)   0.00  10.0\n",
      "(4, 1)   0.00   7.0\n",
      "(4, 2)   0.00   7.0\n",
      "\n",
      "DA Energy:\n",
      "t      1      2\n",
      "g              \n",
      "1  44.99  44.99\n",
      "2   0.00   0.00\n",
      "3   0.00   0.00\n",
      "4   0.00   0.00\n",
      "5   0.00   0.00\n",
      "\n",
      "DA Prices (FO):\n",
      "   down_R1  down_R2  down_R3  down_R4  up_R1  up_R2  up_R3  up_R4\n",
      "T                                                                \n",
      "1   -19.01   -12.01     -8.0     -4.0   10.0   17.0   21.0   25.0\n",
      "2   -19.01   -12.01     -8.0     -4.0   10.0   17.0   21.0   25.0\n"
     ]
    }
   ],
   "source": [
    "print(\"\\nRT Margins:\")\n",
    "print(round(RTmargins, 2))\n",
    "\n",
    "print(\"\\nRT Payoffs:\")\n",
    "print(round(RTpayoffs, 2))\n",
    "\n",
    "print(\"\\nSystem Metrics:\")\n",
    "print(round(Total, 2))\n",
    "\n",
    "print(\"\\nPremium Convergence:\")\n",
    "print(round(premium_convergence, 2))\n",
    "\n",
    "print(\"\\nTotal Margins:\")\n",
    "print(round(Total_margin, 2))\n",
    "\n",
    "print(\"\\nFO Supply AWARDS:\")\n",
    "print(round(df, 2))\n",
    "\n",
    "print(\"\\nFO Demand AWARDS:\")\n",
    "print(round(demand, 2))\n",
    "\n",
    "print(\"\\nDA Energy:\")\n",
    "print(round(Energy, 2))\n",
    "\n",
    "print(\"\\nDA Prices (FO):\")\n",
    "print(round(Prices, 2))"
   ]
  },
  {
   "cell_type": "markdown",
   "metadata": {},
   "source": [
    "# Visualisation"
   ]
  },
  {
   "cell_type": "code",
   "execution_count": 8,
   "metadata": {},
   "outputs": [
    {
     "data": {
      "image/png": "[encoded data removed]",
      "text/plain": [
       "<Figure size 1200x600 with 1 Axes>"
      ]
     },
     "metadata": {},
     "output_type": "display_data"
    }
   ],
   "source": [
    "from data_utils.util_plotting import plot_demand_and_renewables\n",
    "plot_demand_and_renewables(pyomo_system_data)"
   ]
  },
  {
   "cell_type": "code",
   "execution_count": null,
   "metadata": {},
   "outputs": [],
   "source": []
  }
 ],
 "metadata": {
  "kernelspec": {
   "display_name": ".venv",
   "language": "python",
   "name": "python3"
  },
  "language_info": {
   "codemirror_mode": {
    "name": "ipython",
    "version": 3
   },
   "file_extension": ".py",
   "mimetype": "text/x-python",
   "name": "python",
   "nbconvert_exporter": "python",
   "pygments_lexer": "ipython3",
   "version": "3.13.0"
  }
 },
 "nbformat": 4,
 "nbformat_minor": 2
}
